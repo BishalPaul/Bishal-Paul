{
  "nbformat": 4,
  "nbformat_minor": 0,
  "metadata": {
    "colab": {
      "name": "ANN.ipynb",
      "provenance": [],
      "collapsed_sections": [],
      "mount_file_id": "1FEu7F1kaV_fwYT5d05d6bNrEtwQPBJtU",
      "authorship_tag": "ABX9TyNswOfhGrF4SsAFrTCXm3e7",
      "include_colab_link": true
    },
    "kernelspec": {
      "name": "python3",
      "display_name": "Python 3"
    }
  },
  "cells": [
    {
      "cell_type": "markdown",
      "metadata": {
        "id": "view-in-github",
        "colab_type": "text"
      },
      "source": [
        "<a href=\"https://colab.research.google.com/github/BishalPaul/Bishal-Paul/blob/master/ANN.ipynb\" target=\"_parent\"><img src=\"https://colab.research.google.com/assets/colab-badge.svg\" alt=\"Open In Colab\"/></a>"
      ]
    },
    {
      "cell_type": "code",
      "metadata": {
        "id": "XTS4qvZhy0Ja",
        "colab_type": "code",
        "colab": {
          "base_uri": "https://localhost:8080/",
          "height": 34
        },
        "outputId": "25bf87d0-9255-4482-fb0e-a3a3d7ee2193"
      },
      "source": [
        "import keras"
      ],
      "execution_count": null,
      "outputs": [
        {
          "output_type": "stream",
          "text": [
            "Using TensorFlow backend.\n"
          ],
          "name": "stderr"
        }
      ]
    },
    {
      "cell_type": "code",
      "metadata": {
        "id": "eJNYrfQAzFxr",
        "colab_type": "code",
        "colab": {
          "base_uri": "https://localhost:8080/",
          "height": 204
        },
        "outputId": "ab02f9bf-491b-4581-aee9-cd043ceac928"
      },
      "source": [
        "import pandas as pd\n",
        "dataset=pd.read_csv('/content/drive/My Drive/Churn_Modelling.csv')\n",
        "dataset.head()"
      ],
      "execution_count": null,
      "outputs": [
        {
          "output_type": "execute_result",
          "data": {
            "text/html": [
              "<div>\n",
              "<style scoped>\n",
              "    .dataframe tbody tr th:only-of-type {\n",
              "        vertical-align: middle;\n",
              "    }\n",
              "\n",
              "    .dataframe tbody tr th {\n",
              "        vertical-align: top;\n",
              "    }\n",
              "\n",
              "    .dataframe thead th {\n",
              "        text-align: right;\n",
              "    }\n",
              "</style>\n",
              "<table border=\"1\" class=\"dataframe\">\n",
              "  <thead>\n",
              "    <tr style=\"text-align: right;\">\n",
              "      <th></th>\n",
              "      <th>RowNumber</th>\n",
              "      <th>CustomerId</th>\n",
              "      <th>Surname</th>\n",
              "      <th>CreditScore</th>\n",
              "      <th>Geography</th>\n",
              "      <th>Gender</th>\n",
              "      <th>Age</th>\n",
              "      <th>Tenure</th>\n",
              "      <th>Balance</th>\n",
              "      <th>NumOfProducts</th>\n",
              "      <th>HasCrCard</th>\n",
              "      <th>IsActiveMember</th>\n",
              "      <th>EstimatedSalary</th>\n",
              "      <th>Exited</th>\n",
              "    </tr>\n",
              "  </thead>\n",
              "  <tbody>\n",
              "    <tr>\n",
              "      <th>0</th>\n",
              "      <td>1</td>\n",
              "      <td>15634602</td>\n",
              "      <td>Hargrave</td>\n",
              "      <td>619</td>\n",
              "      <td>France</td>\n",
              "      <td>Female</td>\n",
              "      <td>42</td>\n",
              "      <td>2</td>\n",
              "      <td>0.00</td>\n",
              "      <td>1</td>\n",
              "      <td>1</td>\n",
              "      <td>1</td>\n",
              "      <td>101348.88</td>\n",
              "      <td>1</td>\n",
              "    </tr>\n",
              "    <tr>\n",
              "      <th>1</th>\n",
              "      <td>2</td>\n",
              "      <td>15647311</td>\n",
              "      <td>Hill</td>\n",
              "      <td>608</td>\n",
              "      <td>Spain</td>\n",
              "      <td>Female</td>\n",
              "      <td>41</td>\n",
              "      <td>1</td>\n",
              "      <td>83807.86</td>\n",
              "      <td>1</td>\n",
              "      <td>0</td>\n",
              "      <td>1</td>\n",
              "      <td>112542.58</td>\n",
              "      <td>0</td>\n",
              "    </tr>\n",
              "    <tr>\n",
              "      <th>2</th>\n",
              "      <td>3</td>\n",
              "      <td>15619304</td>\n",
              "      <td>Onio</td>\n",
              "      <td>502</td>\n",
              "      <td>France</td>\n",
              "      <td>Female</td>\n",
              "      <td>42</td>\n",
              "      <td>8</td>\n",
              "      <td>159660.80</td>\n",
              "      <td>3</td>\n",
              "      <td>1</td>\n",
              "      <td>0</td>\n",
              "      <td>113931.57</td>\n",
              "      <td>1</td>\n",
              "    </tr>\n",
              "    <tr>\n",
              "      <th>3</th>\n",
              "      <td>4</td>\n",
              "      <td>15701354</td>\n",
              "      <td>Boni</td>\n",
              "      <td>699</td>\n",
              "      <td>France</td>\n",
              "      <td>Female</td>\n",
              "      <td>39</td>\n",
              "      <td>1</td>\n",
              "      <td>0.00</td>\n",
              "      <td>2</td>\n",
              "      <td>0</td>\n",
              "      <td>0</td>\n",
              "      <td>93826.63</td>\n",
              "      <td>0</td>\n",
              "    </tr>\n",
              "    <tr>\n",
              "      <th>4</th>\n",
              "      <td>5</td>\n",
              "      <td>15737888</td>\n",
              "      <td>Mitchell</td>\n",
              "      <td>850</td>\n",
              "      <td>Spain</td>\n",
              "      <td>Female</td>\n",
              "      <td>43</td>\n",
              "      <td>2</td>\n",
              "      <td>125510.82</td>\n",
              "      <td>1</td>\n",
              "      <td>1</td>\n",
              "      <td>1</td>\n",
              "      <td>79084.10</td>\n",
              "      <td>0</td>\n",
              "    </tr>\n",
              "  </tbody>\n",
              "</table>\n",
              "</div>"
            ],
            "text/plain": [
              "   RowNumber  CustomerId   Surname  ...  IsActiveMember EstimatedSalary Exited\n",
              "0          1    15634602  Hargrave  ...               1       101348.88      1\n",
              "1          2    15647311      Hill  ...               1       112542.58      0\n",
              "2          3    15619304      Onio  ...               0       113931.57      1\n",
              "3          4    15701354      Boni  ...               0        93826.63      0\n",
              "4          5    15737888  Mitchell  ...               1        79084.10      0\n",
              "\n",
              "[5 rows x 14 columns]"
            ]
          },
          "metadata": {
            "tags": []
          },
          "execution_count": 3
        }
      ]
    },
    {
      "cell_type": "code",
      "metadata": {
        "id": "CSPUqhw60X_k",
        "colab_type": "code",
        "colab": {
          "base_uri": "https://localhost:8080/",
          "height": 272
        },
        "outputId": "e259acdc-b987-45b6-bc41-b71d967f9d3a"
      },
      "source": [
        "dataset.shape\n",
        "dataset.isnull().sum()"
      ],
      "execution_count": null,
      "outputs": [
        {
          "output_type": "execute_result",
          "data": {
            "text/plain": [
              "RowNumber          0\n",
              "CustomerId         0\n",
              "Surname            0\n",
              "CreditScore        0\n",
              "Geography          0\n",
              "Gender             0\n",
              "Age                0\n",
              "Tenure             0\n",
              "Balance            0\n",
              "NumOfProducts      0\n",
              "HasCrCard          0\n",
              "IsActiveMember     0\n",
              "EstimatedSalary    0\n",
              "Exited             0\n",
              "dtype: int64"
            ]
          },
          "metadata": {
            "tags": []
          },
          "execution_count": 4
        }
      ]
    },
    {
      "cell_type": "code",
      "metadata": {
        "id": "1d-WLx9v0hn6",
        "colab_type": "code",
        "colab": {}
      },
      "source": [
        "z=dataset.iloc[:,3:13]\n",
        "y=dataset.iloc[:,-1]"
      ],
      "execution_count": null,
      "outputs": []
    },
    {
      "cell_type": "code",
      "metadata": {
        "id": "7RtS0HYG1PYY",
        "colab_type": "code",
        "colab": {}
      },
      "source": [
        "gender=pd.get_dummies(z['Gender'],drop_first=True)\n",
        "geography=pd.get_dummies(z['Geography'],drop_first=True)"
      ],
      "execution_count": null,
      "outputs": []
    },
    {
      "cell_type": "code",
      "metadata": {
        "id": "1GP7X78H1QnI",
        "colab_type": "code",
        "colab": {
          "base_uri": "https://localhost:8080/",
          "height": 204
        },
        "outputId": "785d1dcc-4d03-4012-af99-246cf0ccee29"
      },
      "source": [
        "z=pd.concat([z,gender,geography],axis=1)\n",
        "z.head()"
      ],
      "execution_count": null,
      "outputs": [
        {
          "output_type": "execute_result",
          "data": {
            "text/html": [
              "<div>\n",
              "<style scoped>\n",
              "    .dataframe tbody tr th:only-of-type {\n",
              "        vertical-align: middle;\n",
              "    }\n",
              "\n",
              "    .dataframe tbody tr th {\n",
              "        vertical-align: top;\n",
              "    }\n",
              "\n",
              "    .dataframe thead th {\n",
              "        text-align: right;\n",
              "    }\n",
              "</style>\n",
              "<table border=\"1\" class=\"dataframe\">\n",
              "  <thead>\n",
              "    <tr style=\"text-align: right;\">\n",
              "      <th></th>\n",
              "      <th>CreditScore</th>\n",
              "      <th>Geography</th>\n",
              "      <th>Gender</th>\n",
              "      <th>Age</th>\n",
              "      <th>Tenure</th>\n",
              "      <th>Balance</th>\n",
              "      <th>NumOfProducts</th>\n",
              "      <th>HasCrCard</th>\n",
              "      <th>IsActiveMember</th>\n",
              "      <th>EstimatedSalary</th>\n",
              "      <th>Male</th>\n",
              "      <th>Germany</th>\n",
              "      <th>Spain</th>\n",
              "    </tr>\n",
              "  </thead>\n",
              "  <tbody>\n",
              "    <tr>\n",
              "      <th>0</th>\n",
              "      <td>619</td>\n",
              "      <td>France</td>\n",
              "      <td>Female</td>\n",
              "      <td>42</td>\n",
              "      <td>2</td>\n",
              "      <td>0.00</td>\n",
              "      <td>1</td>\n",
              "      <td>1</td>\n",
              "      <td>1</td>\n",
              "      <td>101348.88</td>\n",
              "      <td>0</td>\n",
              "      <td>0</td>\n",
              "      <td>0</td>\n",
              "    </tr>\n",
              "    <tr>\n",
              "      <th>1</th>\n",
              "      <td>608</td>\n",
              "      <td>Spain</td>\n",
              "      <td>Female</td>\n",
              "      <td>41</td>\n",
              "      <td>1</td>\n",
              "      <td>83807.86</td>\n",
              "      <td>1</td>\n",
              "      <td>0</td>\n",
              "      <td>1</td>\n",
              "      <td>112542.58</td>\n",
              "      <td>0</td>\n",
              "      <td>0</td>\n",
              "      <td>1</td>\n",
              "    </tr>\n",
              "    <tr>\n",
              "      <th>2</th>\n",
              "      <td>502</td>\n",
              "      <td>France</td>\n",
              "      <td>Female</td>\n",
              "      <td>42</td>\n",
              "      <td>8</td>\n",
              "      <td>159660.80</td>\n",
              "      <td>3</td>\n",
              "      <td>1</td>\n",
              "      <td>0</td>\n",
              "      <td>113931.57</td>\n",
              "      <td>0</td>\n",
              "      <td>0</td>\n",
              "      <td>0</td>\n",
              "    </tr>\n",
              "    <tr>\n",
              "      <th>3</th>\n",
              "      <td>699</td>\n",
              "      <td>France</td>\n",
              "      <td>Female</td>\n",
              "      <td>39</td>\n",
              "      <td>1</td>\n",
              "      <td>0.00</td>\n",
              "      <td>2</td>\n",
              "      <td>0</td>\n",
              "      <td>0</td>\n",
              "      <td>93826.63</td>\n",
              "      <td>0</td>\n",
              "      <td>0</td>\n",
              "      <td>0</td>\n",
              "    </tr>\n",
              "    <tr>\n",
              "      <th>4</th>\n",
              "      <td>850</td>\n",
              "      <td>Spain</td>\n",
              "      <td>Female</td>\n",
              "      <td>43</td>\n",
              "      <td>2</td>\n",
              "      <td>125510.82</td>\n",
              "      <td>1</td>\n",
              "      <td>1</td>\n",
              "      <td>1</td>\n",
              "      <td>79084.10</td>\n",
              "      <td>0</td>\n",
              "      <td>0</td>\n",
              "      <td>1</td>\n",
              "    </tr>\n",
              "  </tbody>\n",
              "</table>\n",
              "</div>"
            ],
            "text/plain": [
              "   CreditScore Geography  Gender  Age  ...  EstimatedSalary  Male  Germany  Spain\n",
              "0          619    France  Female   42  ...        101348.88     0        0      0\n",
              "1          608     Spain  Female   41  ...        112542.58     0        0      1\n",
              "2          502    France  Female   42  ...        113931.57     0        0      0\n",
              "3          699    France  Female   39  ...         93826.63     0        0      0\n",
              "4          850     Spain  Female   43  ...         79084.10     0        0      1\n",
              "\n",
              "[5 rows x 13 columns]"
            ]
          },
          "metadata": {
            "tags": []
          },
          "execution_count": 7
        }
      ]
    },
    {
      "cell_type": "code",
      "metadata": {
        "id": "4E4wQ97L3uH3",
        "colab_type": "code",
        "colab": {}
      },
      "source": [
        "z=z.drop(['Geography','Gender'],axis=1)"
      ],
      "execution_count": null,
      "outputs": []
    },
    {
      "cell_type": "code",
      "metadata": {
        "id": "IJ97M9e66hc2",
        "colab_type": "code",
        "colab": {}
      },
      "source": [
        "from sklearn.model_selection import train_test_split\n",
        "z_train,z_test,y_train,y_test=train_test_split(z,y,test_size=0.2,random_state=0)"
      ],
      "execution_count": null,
      "outputs": []
    },
    {
      "cell_type": "code",
      "metadata": {
        "id": "HQp-guDJ7LGx",
        "colab_type": "code",
        "colab": {}
      },
      "source": [
        "from sklearn.preprocessing import StandardScaler\n",
        "sc=StandardScaler()\n",
        "x_train=sc.fit_transform(z_train)\n",
        "x_test=sc.transform(z_test)"
      ],
      "execution_count": null,
      "outputs": []
    },
    {
      "cell_type": "code",
      "metadata": {
        "id": "GKtctUC6X4aK",
        "colab_type": "code",
        "colab": {}
      },
      "source": [
        "from keras.layers import Dense, Dropout\n",
        "from keras.models import Sequential"
      ],
      "execution_count": null,
      "outputs": []
    },
    {
      "cell_type": "code",
      "metadata": {
        "id": "17MwkoQ7_eCl",
        "colab_type": "code",
        "colab": {}
      },
      "source": [
        "classifier=Sequential()\n",
        "classifier.add(Dense(units=6, activation='relu',kernel_initializer='he_uniform',input_dim=x_train.shape[1]))\n",
        "classifier.add(Dense(units=6, activation='relu',kernel_initializer='he_uniform'))\n",
        "classifier.add(Dense(units=1,kernel_initializer='glorot_uniform',activation='sigmoid'))\n",
        "classifier.compile(optimizer='Adamax',loss='binary_crossentropy',metrics=['accuracy'])"
      ],
      "execution_count": null,
      "outputs": []
    },
    {
      "cell_type": "code",
      "metadata": {
        "id": "h0xAyP5bBwb9",
        "colab_type": "code",
        "colab": {
          "base_uri": "https://localhost:8080/",
          "height": 1000
        },
        "outputId": "d24bfb2b-9095-48b6-cc20-a9e383c34be7"
      },
      "source": [
        "model_history=classifier.fit(x_train,y_train,validation_split=0.33,batch_size=10, epochs=100)"
      ],
      "execution_count": 16,
      "outputs": [
        {
          "output_type": "stream",
          "text": [
            "Train on 5359 samples, validate on 2641 samples\n",
            "Epoch 1/100\n",
            "5359/5359 [==============================] - 1s 161us/step - loss: 0.3314 - accuracy: 0.8630 - val_loss: 0.3538 - val_accuracy: 0.8538\n",
            "Epoch 2/100\n",
            "5359/5359 [==============================] - 1s 156us/step - loss: 0.3314 - accuracy: 0.8632 - val_loss: 0.3536 - val_accuracy: 0.8542\n",
            "Epoch 3/100\n",
            "5359/5359 [==============================] - 1s 157us/step - loss: 0.3310 - accuracy: 0.8640 - val_loss: 0.3561 - val_accuracy: 0.8497\n",
            "Epoch 4/100\n",
            "5359/5359 [==============================] - 1s 155us/step - loss: 0.3315 - accuracy: 0.8628 - val_loss: 0.3539 - val_accuracy: 0.8523\n",
            "Epoch 5/100\n",
            "5359/5359 [==============================] - 1s 155us/step - loss: 0.3311 - accuracy: 0.8651 - val_loss: 0.3543 - val_accuracy: 0.8523\n",
            "Epoch 6/100\n",
            "5359/5359 [==============================] - 1s 156us/step - loss: 0.3309 - accuracy: 0.8625 - val_loss: 0.3543 - val_accuracy: 0.8542\n",
            "Epoch 7/100\n",
            "5359/5359 [==============================] - 1s 159us/step - loss: 0.3312 - accuracy: 0.8638 - val_loss: 0.3544 - val_accuracy: 0.8512\n",
            "Epoch 8/100\n",
            "5359/5359 [==============================] - 1s 153us/step - loss: 0.3309 - accuracy: 0.8638 - val_loss: 0.3543 - val_accuracy: 0.8557\n",
            "Epoch 9/100\n",
            "5359/5359 [==============================] - 1s 159us/step - loss: 0.3310 - accuracy: 0.8642 - val_loss: 0.3539 - val_accuracy: 0.8516\n",
            "Epoch 10/100\n",
            "5359/5359 [==============================] - 1s 155us/step - loss: 0.3308 - accuracy: 0.8640 - val_loss: 0.3538 - val_accuracy: 0.8523\n",
            "Epoch 11/100\n",
            "5359/5359 [==============================] - 1s 153us/step - loss: 0.3308 - accuracy: 0.8642 - val_loss: 0.3536 - val_accuracy: 0.8538\n",
            "Epoch 12/100\n",
            "5359/5359 [==============================] - 1s 155us/step - loss: 0.3309 - accuracy: 0.8636 - val_loss: 0.3543 - val_accuracy: 0.8535\n",
            "Epoch 13/100\n",
            "5359/5359 [==============================] - 1s 159us/step - loss: 0.3306 - accuracy: 0.8645 - val_loss: 0.3537 - val_accuracy: 0.8535\n",
            "Epoch 14/100\n",
            "5359/5359 [==============================] - 1s 153us/step - loss: 0.3302 - accuracy: 0.8627 - val_loss: 0.3540 - val_accuracy: 0.8542\n",
            "Epoch 15/100\n",
            "5359/5359 [==============================] - 1s 158us/step - loss: 0.3303 - accuracy: 0.8649 - val_loss: 0.3549 - val_accuracy: 0.8535\n",
            "Epoch 16/100\n",
            "5359/5359 [==============================] - 1s 159us/step - loss: 0.3306 - accuracy: 0.8632 - val_loss: 0.3540 - val_accuracy: 0.8527\n",
            "Epoch 17/100\n",
            "5359/5359 [==============================] - 1s 158us/step - loss: 0.3307 - accuracy: 0.8645 - val_loss: 0.3539 - val_accuracy: 0.8550\n",
            "Epoch 18/100\n",
            "5359/5359 [==============================] - 1s 157us/step - loss: 0.3303 - accuracy: 0.8638 - val_loss: 0.3529 - val_accuracy: 0.8557\n",
            "Epoch 19/100\n",
            "5359/5359 [==============================] - 1s 158us/step - loss: 0.3304 - accuracy: 0.8642 - val_loss: 0.3541 - val_accuracy: 0.8542\n",
            "Epoch 20/100\n",
            "5359/5359 [==============================] - 1s 159us/step - loss: 0.3302 - accuracy: 0.8640 - val_loss: 0.3536 - val_accuracy: 0.8565\n",
            "Epoch 21/100\n",
            "5359/5359 [==============================] - 1s 162us/step - loss: 0.3303 - accuracy: 0.8643 - val_loss: 0.3534 - val_accuracy: 0.8569\n",
            "Epoch 22/100\n",
            "5359/5359 [==============================] - 1s 159us/step - loss: 0.3302 - accuracy: 0.8649 - val_loss: 0.3542 - val_accuracy: 0.8535\n",
            "Epoch 23/100\n",
            "5359/5359 [==============================] - 1s 160us/step - loss: 0.3303 - accuracy: 0.8653 - val_loss: 0.3540 - val_accuracy: 0.8546\n",
            "Epoch 24/100\n",
            "5359/5359 [==============================] - 1s 159us/step - loss: 0.3301 - accuracy: 0.8642 - val_loss: 0.3548 - val_accuracy: 0.8535\n",
            "Epoch 25/100\n",
            "5359/5359 [==============================] - 1s 158us/step - loss: 0.3302 - accuracy: 0.8640 - val_loss: 0.3541 - val_accuracy: 0.8546\n",
            "Epoch 26/100\n",
            "5359/5359 [==============================] - 1s 156us/step - loss: 0.3300 - accuracy: 0.8642 - val_loss: 0.3537 - val_accuracy: 0.8550\n",
            "Epoch 27/100\n",
            "5359/5359 [==============================] - 1s 159us/step - loss: 0.3301 - accuracy: 0.8647 - val_loss: 0.3537 - val_accuracy: 0.8561\n",
            "Epoch 28/100\n",
            "5359/5359 [==============================] - 1s 156us/step - loss: 0.3302 - accuracy: 0.8636 - val_loss: 0.3542 - val_accuracy: 0.8542\n",
            "Epoch 29/100\n",
            "5359/5359 [==============================] - 1s 156us/step - loss: 0.3302 - accuracy: 0.8642 - val_loss: 0.3550 - val_accuracy: 0.8542\n",
            "Epoch 30/100\n",
            "5359/5359 [==============================] - 1s 161us/step - loss: 0.3303 - accuracy: 0.8642 - val_loss: 0.3541 - val_accuracy: 0.8538\n",
            "Epoch 31/100\n",
            "5359/5359 [==============================] - 1s 158us/step - loss: 0.3300 - accuracy: 0.8638 - val_loss: 0.3540 - val_accuracy: 0.8561\n",
            "Epoch 32/100\n",
            "5359/5359 [==============================] - 1s 158us/step - loss: 0.3302 - accuracy: 0.8640 - val_loss: 0.3539 - val_accuracy: 0.8550\n",
            "Epoch 33/100\n",
            "5359/5359 [==============================] - 1s 162us/step - loss: 0.3296 - accuracy: 0.8656 - val_loss: 0.3542 - val_accuracy: 0.8538\n",
            "Epoch 34/100\n",
            "5359/5359 [==============================] - 1s 160us/step - loss: 0.3299 - accuracy: 0.8649 - val_loss: 0.3545 - val_accuracy: 0.8542\n",
            "Epoch 35/100\n",
            "5359/5359 [==============================] - 1s 156us/step - loss: 0.3298 - accuracy: 0.8638 - val_loss: 0.3542 - val_accuracy: 0.8542\n",
            "Epoch 36/100\n",
            "5359/5359 [==============================] - 1s 160us/step - loss: 0.3299 - accuracy: 0.8647 - val_loss: 0.3540 - val_accuracy: 0.8542\n",
            "Epoch 37/100\n",
            "5359/5359 [==============================] - 1s 156us/step - loss: 0.3297 - accuracy: 0.8649 - val_loss: 0.3545 - val_accuracy: 0.8542\n",
            "Epoch 38/100\n",
            "5359/5359 [==============================] - 1s 156us/step - loss: 0.3298 - accuracy: 0.8647 - val_loss: 0.3548 - val_accuracy: 0.8535\n",
            "Epoch 39/100\n",
            "5359/5359 [==============================] - 1s 161us/step - loss: 0.3298 - accuracy: 0.8636 - val_loss: 0.3539 - val_accuracy: 0.8542\n",
            "Epoch 40/100\n",
            "5359/5359 [==============================] - 1s 161us/step - loss: 0.3291 - accuracy: 0.8656 - val_loss: 0.3541 - val_accuracy: 0.8550\n",
            "Epoch 41/100\n",
            "5359/5359 [==============================] - 1s 158us/step - loss: 0.3296 - accuracy: 0.8640 - val_loss: 0.3541 - val_accuracy: 0.8569\n",
            "Epoch 42/100\n",
            "5359/5359 [==============================] - 1s 158us/step - loss: 0.3297 - accuracy: 0.8653 - val_loss: 0.3546 - val_accuracy: 0.8542\n",
            "Epoch 43/100\n",
            "5359/5359 [==============================] - 1s 160us/step - loss: 0.3298 - accuracy: 0.8656 - val_loss: 0.3546 - val_accuracy: 0.8554\n",
            "Epoch 44/100\n",
            "5359/5359 [==============================] - 1s 161us/step - loss: 0.3298 - accuracy: 0.8642 - val_loss: 0.3548 - val_accuracy: 0.8546\n",
            "Epoch 45/100\n",
            "5359/5359 [==============================] - 1s 159us/step - loss: 0.3295 - accuracy: 0.8647 - val_loss: 0.3549 - val_accuracy: 0.8535\n",
            "Epoch 46/100\n",
            "5359/5359 [==============================] - 1s 157us/step - loss: 0.3297 - accuracy: 0.8634 - val_loss: 0.3545 - val_accuracy: 0.8550\n",
            "Epoch 47/100\n",
            "5359/5359 [==============================] - 1s 152us/step - loss: 0.3292 - accuracy: 0.8655 - val_loss: 0.3553 - val_accuracy: 0.8535\n",
            "Epoch 48/100\n",
            "5359/5359 [==============================] - 1s 160us/step - loss: 0.3290 - accuracy: 0.8664 - val_loss: 0.3545 - val_accuracy: 0.8554\n",
            "Epoch 49/100\n",
            "5359/5359 [==============================] - 1s 156us/step - loss: 0.3297 - accuracy: 0.8636 - val_loss: 0.3545 - val_accuracy: 0.8546\n",
            "Epoch 50/100\n",
            "5359/5359 [==============================] - 1s 160us/step - loss: 0.3297 - accuracy: 0.8664 - val_loss: 0.3541 - val_accuracy: 0.8565\n",
            "Epoch 51/100\n",
            "5359/5359 [==============================] - 1s 158us/step - loss: 0.3294 - accuracy: 0.8651 - val_loss: 0.3536 - val_accuracy: 0.8554\n",
            "Epoch 52/100\n",
            "5359/5359 [==============================] - 1s 156us/step - loss: 0.3290 - accuracy: 0.8643 - val_loss: 0.3542 - val_accuracy: 0.8554\n",
            "Epoch 53/100\n",
            "5359/5359 [==============================] - 1s 156us/step - loss: 0.3294 - accuracy: 0.8651 - val_loss: 0.3544 - val_accuracy: 0.8557\n",
            "Epoch 54/100\n",
            "5359/5359 [==============================] - 1s 155us/step - loss: 0.3289 - accuracy: 0.8658 - val_loss: 0.3565 - val_accuracy: 0.8531\n",
            "Epoch 55/100\n",
            "5359/5359 [==============================] - 1s 154us/step - loss: 0.3291 - accuracy: 0.8653 - val_loss: 0.3551 - val_accuracy: 0.8538\n",
            "Epoch 56/100\n",
            "5359/5359 [==============================] - 1s 156us/step - loss: 0.3293 - accuracy: 0.8651 - val_loss: 0.3542 - val_accuracy: 0.8561\n",
            "Epoch 57/100\n",
            "5359/5359 [==============================] - 1s 156us/step - loss: 0.3290 - accuracy: 0.8643 - val_loss: 0.3542 - val_accuracy: 0.8565\n",
            "Epoch 58/100\n",
            "5359/5359 [==============================] - 1s 158us/step - loss: 0.3286 - accuracy: 0.8647 - val_loss: 0.3542 - val_accuracy: 0.8546\n",
            "Epoch 59/100\n",
            "5359/5359 [==============================] - 1s 157us/step - loss: 0.3292 - accuracy: 0.8632 - val_loss: 0.3546 - val_accuracy: 0.8565\n",
            "Epoch 60/100\n",
            "5359/5359 [==============================] - 1s 209us/step - loss: 0.3290 - accuracy: 0.8640 - val_loss: 0.3545 - val_accuracy: 0.8550\n",
            "Epoch 61/100\n",
            "5359/5359 [==============================] - 1s 181us/step - loss: 0.3287 - accuracy: 0.8653 - val_loss: 0.3551 - val_accuracy: 0.8554\n",
            "Epoch 62/100\n",
            "5359/5359 [==============================] - 1s 153us/step - loss: 0.3290 - accuracy: 0.8662 - val_loss: 0.3554 - val_accuracy: 0.8569\n",
            "Epoch 63/100\n",
            "5359/5359 [==============================] - 1s 153us/step - loss: 0.3289 - accuracy: 0.8651 - val_loss: 0.3549 - val_accuracy: 0.8576\n",
            "Epoch 64/100\n",
            "5359/5359 [==============================] - 1s 152us/step - loss: 0.3287 - accuracy: 0.8643 - val_loss: 0.3555 - val_accuracy: 0.8561\n",
            "Epoch 65/100\n",
            "5359/5359 [==============================] - 1s 153us/step - loss: 0.3288 - accuracy: 0.8656 - val_loss: 0.3543 - val_accuracy: 0.8565\n",
            "Epoch 66/100\n",
            "5359/5359 [==============================] - 1s 157us/step - loss: 0.3284 - accuracy: 0.8653 - val_loss: 0.3541 - val_accuracy: 0.8569\n",
            "Epoch 67/100\n",
            "5359/5359 [==============================] - 1s 159us/step - loss: 0.3284 - accuracy: 0.8645 - val_loss: 0.3537 - val_accuracy: 0.8569\n",
            "Epoch 68/100\n",
            "5359/5359 [==============================] - 1s 156us/step - loss: 0.3287 - accuracy: 0.8666 - val_loss: 0.3542 - val_accuracy: 0.8569\n",
            "Epoch 69/100\n",
            "5359/5359 [==============================] - 1s 155us/step - loss: 0.3284 - accuracy: 0.8662 - val_loss: 0.3535 - val_accuracy: 0.8569\n",
            "Epoch 70/100\n",
            "5359/5359 [==============================] - 1s 158us/step - loss: 0.3284 - accuracy: 0.8668 - val_loss: 0.3534 - val_accuracy: 0.8576\n",
            "Epoch 71/100\n",
            "5359/5359 [==============================] - 1s 156us/step - loss: 0.3280 - accuracy: 0.8656 - val_loss: 0.3538 - val_accuracy: 0.8588\n",
            "Epoch 72/100\n",
            "5359/5359 [==============================] - 1s 159us/step - loss: 0.3283 - accuracy: 0.8649 - val_loss: 0.3537 - val_accuracy: 0.8584\n",
            "Epoch 73/100\n",
            "5359/5359 [==============================] - 1s 156us/step - loss: 0.3281 - accuracy: 0.8666 - val_loss: 0.3544 - val_accuracy: 0.8557\n",
            "Epoch 74/100\n",
            "5359/5359 [==============================] - 1s 154us/step - loss: 0.3283 - accuracy: 0.8656 - val_loss: 0.3540 - val_accuracy: 0.8591\n",
            "Epoch 75/100\n",
            "5359/5359 [==============================] - 1s 156us/step - loss: 0.3280 - accuracy: 0.8662 - val_loss: 0.3540 - val_accuracy: 0.8588\n",
            "Epoch 76/100\n",
            "5359/5359 [==============================] - 1s 157us/step - loss: 0.3279 - accuracy: 0.8651 - val_loss: 0.3555 - val_accuracy: 0.8561\n",
            "Epoch 77/100\n",
            "5359/5359 [==============================] - 1s 169us/step - loss: 0.3276 - accuracy: 0.8656 - val_loss: 0.3552 - val_accuracy: 0.8580\n",
            "Epoch 78/100\n",
            "5359/5359 [==============================] - 1s 173us/step - loss: 0.3276 - accuracy: 0.8656 - val_loss: 0.3549 - val_accuracy: 0.8573\n",
            "Epoch 79/100\n",
            "5359/5359 [==============================] - 1s 178us/step - loss: 0.3280 - accuracy: 0.8658 - val_loss: 0.3541 - val_accuracy: 0.8576\n",
            "Epoch 80/100\n",
            "5359/5359 [==============================] - 1s 177us/step - loss: 0.3277 - accuracy: 0.8655 - val_loss: 0.3542 - val_accuracy: 0.8576\n",
            "Epoch 81/100\n",
            "5359/5359 [==============================] - 1s 181us/step - loss: 0.3276 - accuracy: 0.8666 - val_loss: 0.3539 - val_accuracy: 0.8584\n",
            "Epoch 82/100\n",
            "5359/5359 [==============================] - 1s 172us/step - loss: 0.3277 - accuracy: 0.8670 - val_loss: 0.3541 - val_accuracy: 0.8569\n",
            "Epoch 83/100\n",
            "5359/5359 [==============================] - 1s 176us/step - loss: 0.3279 - accuracy: 0.8670 - val_loss: 0.3541 - val_accuracy: 0.8580\n",
            "Epoch 84/100\n",
            "5359/5359 [==============================] - 1s 178us/step - loss: 0.3276 - accuracy: 0.8675 - val_loss: 0.3551 - val_accuracy: 0.8569\n",
            "Epoch 85/100\n",
            "5359/5359 [==============================] - 1s 175us/step - loss: 0.3276 - accuracy: 0.8668 - val_loss: 0.3542 - val_accuracy: 0.8584\n",
            "Epoch 86/100\n",
            "5359/5359 [==============================] - 1s 174us/step - loss: 0.3274 - accuracy: 0.8664 - val_loss: 0.3536 - val_accuracy: 0.8599\n",
            "Epoch 87/100\n",
            "5359/5359 [==============================] - 1s 174us/step - loss: 0.3276 - accuracy: 0.8666 - val_loss: 0.3531 - val_accuracy: 0.8607\n",
            "Epoch 88/100\n",
            "5359/5359 [==============================] - 1s 162us/step - loss: 0.3274 - accuracy: 0.8660 - val_loss: 0.3546 - val_accuracy: 0.8573\n",
            "Epoch 89/100\n",
            "5359/5359 [==============================] - 1s 155us/step - loss: 0.3277 - accuracy: 0.8675 - val_loss: 0.3539 - val_accuracy: 0.8569\n",
            "Epoch 90/100\n",
            "5359/5359 [==============================] - 1s 152us/step - loss: 0.3275 - accuracy: 0.8656 - val_loss: 0.3537 - val_accuracy: 0.8599\n",
            "Epoch 91/100\n",
            "5359/5359 [==============================] - 1s 151us/step - loss: 0.3272 - accuracy: 0.8664 - val_loss: 0.3533 - val_accuracy: 0.8580\n",
            "Epoch 92/100\n",
            "5359/5359 [==============================] - 1s 154us/step - loss: 0.3271 - accuracy: 0.8649 - val_loss: 0.3545 - val_accuracy: 0.8580\n",
            "Epoch 93/100\n",
            "5359/5359 [==============================] - 1s 156us/step - loss: 0.3272 - accuracy: 0.8677 - val_loss: 0.3534 - val_accuracy: 0.8576\n",
            "Epoch 94/100\n",
            "5359/5359 [==============================] - 1s 152us/step - loss: 0.3272 - accuracy: 0.8651 - val_loss: 0.3537 - val_accuracy: 0.8576\n",
            "Epoch 95/100\n",
            "5359/5359 [==============================] - 1s 157us/step - loss: 0.3273 - accuracy: 0.8666 - val_loss: 0.3544 - val_accuracy: 0.8584\n",
            "Epoch 96/100\n",
            "5359/5359 [==============================] - 1s 154us/step - loss: 0.3273 - accuracy: 0.8649 - val_loss: 0.3537 - val_accuracy: 0.8591\n",
            "Epoch 97/100\n",
            "5359/5359 [==============================] - 1s 160us/step - loss: 0.3272 - accuracy: 0.8656 - val_loss: 0.3533 - val_accuracy: 0.8580\n",
            "Epoch 98/100\n",
            "5359/5359 [==============================] - 1s 149us/step - loss: 0.3270 - accuracy: 0.8675 - val_loss: 0.3538 - val_accuracy: 0.8591\n",
            "Epoch 99/100\n",
            "5359/5359 [==============================] - 1s 154us/step - loss: 0.3270 - accuracy: 0.8668 - val_loss: 0.3546 - val_accuracy: 0.8576\n",
            "Epoch 100/100\n",
            "5359/5359 [==============================] - 1s 156us/step - loss: 0.3272 - accuracy: 0.8673 - val_loss: 0.3541 - val_accuracy: 0.8580\n"
          ],
          "name": "stdout"
        }
      ]
    },
    {
      "cell_type": "code",
      "metadata": {
        "id": "jDqOtfePDxkC",
        "colab_type": "code",
        "colab": {}
      },
      "source": [
        "y_pred=classifier.predict(x_test)\n",
        "y_pred=(y_pred>0.5)"
      ],
      "execution_count": 20,
      "outputs": []
    },
    {
      "cell_type": "code",
      "metadata": {
        "id": "BHZvicrqERHO",
        "colab_type": "code",
        "colab": {
          "base_uri": "https://localhost:8080/",
          "height": 85
        },
        "outputId": "4115364c-d58d-4abc-e6fa-7a354a90c10b"
      },
      "source": [
        "from sklearn.metrics import confusion_matrix, accuracy_score\n",
        "cm=confusion_matrix(y_pred,y_test)\n",
        "score=accuracy_score(y_pred,y_test)\n",
        "print('Confusion Matrix:\\n',cm)\n",
        "print('Accuracy Score:',score)"
      ],
      "execution_count": 21,
      "outputs": [
        {
          "output_type": "stream",
          "text": [
            "Confusion Matrix:\n",
            " [[1519  204]\n",
            " [  76  201]]\n",
            "Accuracy Score: 0.86\n"
          ],
          "name": "stdout"
        }
      ]
    },
    {
      "cell_type": "code",
      "metadata": {
        "id": "YWsHcNsaFbku",
        "colab_type": "code",
        "colab": {}
      },
      "source": [
        ""
      ],
      "execution_count": null,
      "outputs": []
    }
  ]
}